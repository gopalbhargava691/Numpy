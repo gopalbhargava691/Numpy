{
 "cells": [
  {
   "cell_type": "markdown",
   "metadata": {},
   "source": [
    "# NumPy Test 1"
   ]
  },
  {
   "cell_type": "code",
   "execution_count": 1,
   "metadata": {},
   "outputs": [],
   "source": [
    "import numpy as np"
   ]
  },
  {
   "cell_type": "markdown",
   "metadata": {},
   "source": [
    "## 1. Count The Number Of Times Each Value Appears In An Array Of Integers"
   ]
  },
  {
   "cell_type": "code",
   "execution_count": 2,
   "metadata": {},
   "outputs": [
    {
     "name": "stdout",
     "output_type": "stream",
     "text": [
      "Array created is :  [[3 4 0]\n",
      " [1 3 0]\n",
      " [0 1 4]]\n",
      "Unique elements in array are :  [0 1 3 4]\n",
      "frequencies of each element is :  [3 2 2 2]\n"
     ]
    }
   ],
   "source": [
    "np.random.seed(1)\n",
    "a = np.random.randint(5,size=[3,3])\n",
    "print('Array created is : ',a)\n",
    "elements, counts = np.unique(a,return_counts=True)\n",
    "print('Unique elements in array are : ',elements)\n",
    "print('frequencies of each element is : ',counts)"
   ]
  },
  {
   "cell_type": "markdown",
   "metadata": {},
   "source": [
    "## 2. Given 9 Integers. You have to convert them into 3*3 Numpy array using Reshape function"
   ]
  },
  {
   "cell_type": "code",
   "execution_count": 3,
   "metadata": {},
   "outputs": [
    {
     "data": {
      "text/plain": [
       "array([[0, 1, 2],\n",
       "       [3, 4, 5],\n",
       "       [6, 7, 8]])"
      ]
     },
     "execution_count": 3,
     "metadata": {},
     "output_type": "execute_result"
    }
   ],
   "source": [
    "given_integer =np.arange(9).reshape((3,3))\n",
    "given_integer"
   ]
  },
  {
   "cell_type": "markdown",
   "metadata": {},
   "source": [
    "## 3. How to find the memory size of any array"
   ]
  },
  {
   "cell_type": "code",
   "execution_count": 4,
   "metadata": {},
   "outputs": [
    {
     "name": "stdout",
     "output_type": "stream",
     "text": [
      "Memory size of a NumPy array:  36\n"
     ]
    }
   ],
   "source": [
    "array = np.arange(9).reshape((3,3))\n",
    "print(\"Memory size of a NumPy array: \",array.nbytes)"
   ]
  },
  {
   "cell_type": "markdown",
   "metadata": {},
   "source": [
    "## 4. Create a 2d array of size 10 by 10 with 1 on the border and 0 inside"
   ]
  },
  {
   "cell_type": "code",
   "execution_count": 5,
   "metadata": {},
   "outputs": [
    {
     "name": "stdout",
     "output_type": "stream",
     "text": [
      "[[1. 1. 1. 1. 1. 1. 1. 1. 1. 1.]\n",
      " [1. 0. 0. 0. 0. 0. 0. 0. 0. 1.]\n",
      " [1. 0. 0. 0. 0. 0. 0. 0. 0. 1.]\n",
      " [1. 0. 0. 0. 0. 0. 0. 0. 0. 1.]\n",
      " [1. 0. 0. 0. 0. 0. 0. 0. 0. 1.]\n",
      " [1. 0. 0. 0. 0. 0. 0. 0. 0. 1.]\n",
      " [1. 0. 0. 0. 0. 0. 0. 0. 0. 1.]\n",
      " [1. 0. 0. 0. 0. 0. 0. 0. 0. 1.]\n",
      " [1. 0. 0. 0. 0. 0. 0. 0. 0. 1.]\n",
      " [1. 1. 1. 1. 1. 1. 1. 1. 1. 1.]]\n"
     ]
    }
   ],
   "source": [
    "array = np.ones((10,10))\n",
    "array[1:-1,1:-1]  = 0\n",
    "print(array)"
   ]
  },
  {
   "cell_type": "markdown",
   "metadata": {},
   "source": [
    "## 5.Create a 8x8 matrix and fill it with a checkerboard pattern"
   ]
  },
  {
   "cell_type": "code",
   "execution_count": 6,
   "metadata": {},
   "outputs": [
    {
     "name": "stdout",
     "output_type": "stream",
     "text": [
      "[[0 1 0 1 0 1 0 1]\n",
      " [1 0 1 0 1 0 1 0]\n",
      " [0 1 0 1 0 1 0 1]\n",
      " [1 0 1 0 1 0 1 0]\n",
      " [0 1 0 1 0 1 0 1]\n",
      " [1 0 1 0 1 0 1 0]\n",
      " [0 1 0 1 0 1 0 1]\n",
      " [1 0 1 0 1 0 1 0]]\n"
     ]
    }
   ],
   "source": [
    "checkboard = np.tile( np.array([[0,1],[1,0]]), (4,4))\n",
    "print(checkboard)"
   ]
  },
  {
   "cell_type": "markdown",
   "metadata": {},
   "source": [
    "## 6. Normalize a 5x5 random matrix\n",
    "normalization formula : ((a-mean(a))/std(a))"
   ]
  },
  {
   "cell_type": "code",
   "execution_count": 7,
   "metadata": {},
   "outputs": [
    {
     "name": "stdout",
     "output_type": "stream",
     "text": [
      "Original Matrix\n",
      "[[37 43 12  8  9]\n",
      " [11  5 15  0 16]\n",
      " [ 1 12  7 45  6]\n",
      " [25 20 37 18 20]\n",
      " [11 42 28 29 14]]\n",
      "Matrix after Normalization\n",
      "[[ 1.37839284  1.83380897 -0.51917439 -0.82278515 -0.74688246]\n",
      " [-0.59507708 -1.05049322 -0.29146633 -1.43000667 -0.21556364]\n",
      " [-1.35410398 -0.51917439 -0.89868784  1.98561435 -0.97459053]\n",
      " [ 0.46756057  0.08804712  1.37839284 -0.06375826  0.08804712]\n",
      " [-0.59507708  1.75790628  0.69526863  0.77117132 -0.36736902]]\n"
     ]
    }
   ],
   "source": [
    "np.random.seed(1)\n",
    "a= np.random.randint(50, size = (5,5))\n",
    "print('Original Matrix')\n",
    "print(a)\n",
    "print('Matrix after Normalization')\n",
    "a = (a-a.mean())/np.std(a)\n",
    "print(a)"
   ]
  },
  {
   "cell_type": "markdown",
   "metadata": {},
   "source": [
    "## 7. Given a 1D array in range(0,11), negate all elements which are between 3 and 8, in place"
   ]
  },
  {
   "cell_type": "code",
   "execution_count": 8,
   "metadata": {},
   "outputs": [
    {
     "name": "stdout",
     "output_type": "stream",
     "text": [
      "[ 0  1  2  3 -4 -5 -6 -7  8  9 10]\n"
     ]
    }
   ],
   "source": [
    "negate = np.arange(11)\n",
    "negate[(3 < negate) & (negate < 8)] *= -1\n",
    "print(negate)"
   ]
  },
  {
   "cell_type": "markdown",
   "metadata": {},
   "source": [
    "## 8. How to get the dates of yesterday, today and tomorrow?"
   ]
  },
  {
   "cell_type": "code",
   "execution_count": 9,
   "metadata": {},
   "outputs": [
    {
     "name": "stdout",
     "output_type": "stream",
     "text": [
      "Yestraday:  2020-11-08\n",
      "Today:  2020-11-09\n",
      "Tomorrow:  2020-11-10\n"
     ]
    }
   ],
   "source": [
    "yesterday = np.datetime64('today', 'D') - np.timedelta64(1, 'D')\n",
    "print(\"Yestraday: \",yesterday)\n",
    "today     = np.datetime64('today', 'D')\n",
    "print(\"Today: \",today)\n",
    "tomorrow  = np.datetime64('today', 'D') + np.timedelta64(1, 'D')\n",
    "print(\"Tomorrow: \",tomorrow)"
   ]
  },
  {
   "cell_type": "markdown",
   "metadata": {},
   "source": [
    "## 9. Generate two arrays of size 2X4 & 3X3, find difference between them"
   ]
  },
  {
   "cell_type": "code",
   "execution_count": 16,
   "metadata": {},
   "outputs": [
    {
     "ename": "ValueError",
     "evalue": "operands could not be broadcast together with shapes (2,4) (3,3) ",
     "output_type": "error",
     "traceback": [
      "\u001b[1;31m---------------------------------------------------------------------------\u001b[0m",
      "\u001b[1;31mValueError\u001b[0m                                Traceback (most recent call last)",
      "\u001b[1;32m<ipython-input-16-14fd4bfd0028>\u001b[0m in \u001b[0;36m<module>\u001b[1;34m()\u001b[0m\n\u001b[0;32m      2\u001b[0m \u001b[0marray1\u001b[0m \u001b[1;33m=\u001b[0m \u001b[0mnp\u001b[0m\u001b[1;33m.\u001b[0m\u001b[0mrandom\u001b[0m\u001b[1;33m.\u001b[0m\u001b[0mrandint\u001b[0m\u001b[1;33m(\u001b[0m\u001b[1;36m10\u001b[0m\u001b[1;33m,\u001b[0m \u001b[0msize\u001b[0m \u001b[1;33m=\u001b[0m \u001b[1;33m(\u001b[0m\u001b[1;36m2\u001b[0m\u001b[1;33m,\u001b[0m\u001b[1;36m4\u001b[0m\u001b[1;33m)\u001b[0m\u001b[1;33m)\u001b[0m\u001b[1;33m\u001b[0m\u001b[0m\n\u001b[0;32m      3\u001b[0m \u001b[0marray2\u001b[0m \u001b[1;33m=\u001b[0m \u001b[0mnp\u001b[0m\u001b[1;33m.\u001b[0m\u001b[0mrandom\u001b[0m\u001b[1;33m.\u001b[0m\u001b[0mrandint\u001b[0m\u001b[1;33m(\u001b[0m\u001b[1;36m10\u001b[0m\u001b[1;33m,\u001b[0m \u001b[0msize\u001b[0m \u001b[1;33m=\u001b[0m \u001b[1;33m(\u001b[0m\u001b[1;36m3\u001b[0m\u001b[1;33m,\u001b[0m\u001b[1;36m3\u001b[0m\u001b[1;33m)\u001b[0m\u001b[1;33m)\u001b[0m\u001b[1;33m\u001b[0m\u001b[0m\n\u001b[1;32m----> 4\u001b[1;33m \u001b[0msubtract\u001b[0m \u001b[1;33m=\u001b[0m \u001b[0mnp\u001b[0m\u001b[1;33m.\u001b[0m\u001b[0msubtract\u001b[0m\u001b[1;33m(\u001b[0m\u001b[0marray1\u001b[0m\u001b[1;33m,\u001b[0m\u001b[0marray2\u001b[0m\u001b[1;33m)\u001b[0m\u001b[1;33m\u001b[0m\u001b[0m\n\u001b[0m",
      "\u001b[1;31mValueError\u001b[0m: operands could not be broadcast together with shapes (2,4) (3,3) "
     ]
    }
   ],
   "source": [
    "np.random.seed(1)\n",
    "array1 = np.random.randint(10, size = (2,4))\n",
    "array2 = np.random.randint(10, size = (3,3))\n",
    "subtract = np.subtract(array1,array2)"
   ]
  },
  {
   "cell_type": "markdown",
   "metadata": {},
   "source": [
    "## 10. Given 1d array of ['cat','dog','rat'], genrate 100 elements of 1d array consisting of the above 3 value ?\n",
    "['cat','cat',...,'rat','dog','dog','cat'...]"
   ]
  },
  {
   "cell_type": "code",
   "execution_count": 10,
   "metadata": {},
   "outputs": [
    {
     "name": "stdout",
     "output_type": "stream",
     "text": [
      "Generated 100 elements are\n",
      "['rat' 'cat' 'dog' 'dog' 'rat' 'cat' 'rat' 'dog' 'dog' 'dog' 'dog' 'rat'\n",
      " 'dog' 'dog' 'cat' 'cat' 'dog' 'cat' 'cat' 'dog' 'rat' 'dog' 'cat' 'rat'\n",
      " 'rat' 'dog' 'dog' 'dog' 'cat' 'cat' 'dog' 'cat' 'rat' 'cat' 'cat' 'dog'\n",
      " 'dog' 'rat' 'cat' 'cat' 'dog' 'rat' 'rat' 'dog' 'cat' 'rat' 'dog' 'rat'\n",
      " 'dog' 'cat' 'dog' 'dog' 'rat' 'cat' 'cat' 'rat' 'rat' 'dog' 'cat' 'rat'\n",
      " 'rat' 'rat' 'cat' 'cat' 'dog' 'dog' 'dog' 'cat' 'cat' 'dog' 'dog' 'rat'\n",
      " 'cat' 'dog' 'rat' 'rat' 'cat' 'dog' 'dog' 'cat' 'cat' 'cat' 'rat' 'cat'\n",
      " 'dog' 'cat' 'dog' 'cat' 'cat' 'rat' 'cat' 'dog' 'rat' 'cat' 'dog' 'dog'\n",
      " 'cat' 'rat' 'cat' 'cat']\n"
     ]
    }
   ],
   "source": [
    "array1 = np.array(['cat', 'dog', 'rat'])\n",
    "\n",
    "array2 = np.random.choice(array1, size=100)\n",
    "\n",
    "print('Generated 100 elements are', array2, sep='\\n')"
   ]
  },
  {
   "cell_type": "markdown",
   "metadata": {},
   "source": [
    "## 11. Create a vector of size 10 with values ranging from 0 to 1, both excluded without manually deducing the values"
   ]
  },
  {
   "cell_type": "code",
   "execution_count": 11,
   "metadata": {},
   "outputs": [
    {
     "name": "stdout",
     "output_type": "stream",
     "text": [
      "[0.35653172 0.75278835 0.88134183 0.01166919 0.49810907 0.07379201\n",
      " 0.78695147 0.06406733 0.35531036 0.94183695]\n"
     ]
    }
   ],
   "source": [
    "array = np.random.uniform(low=0, high=1, size=10)\n",
    "print(array)"
   ]
  },
  {
   "cell_type": "markdown",
   "metadata": {},
   "source": [
    "## 12. Given a two dimensional array, how to extract unique rows?"
   ]
  },
  {
   "cell_type": "code",
   "execution_count": 12,
   "metadata": {},
   "outputs": [
    {
     "name": "stdout",
     "output_type": "stream",
     "text": [
      "Unique rows are\n",
      "[[0 0 0]\n",
      " [0 0 1]]\n"
     ]
    }
   ],
   "source": [
    "matrix = np.array([[0, 0, 0], [0, 0, 1], [0, 0, 1], [0, 0, 0]])\n",
    "\n",
    "print('Unique rows are', np.unique(matrix, axis=0), sep='\\n')"
   ]
  },
  {
   "cell_type": "markdown",
   "metadata": {},
   "source": [
    "## 13. Create a structured array with x and y coordinates covering the [0,1]x[0,1] area"
   ]
  },
  {
   "cell_type": "code",
   "execution_count": null,
   "metadata": {},
   "outputs": [],
   "source": []
  },
  {
   "cell_type": "markdown",
   "metadata": {},
   "source": [
    "## 14. How to find the closest value (to a given scalar) in a vector?"
   ]
  },
  {
   "cell_type": "code",
   "execution_count": 14,
   "metadata": {},
   "outputs": [
    {
     "name": "stdout",
     "output_type": "stream",
     "text": [
      "Closest value to 4.01 is 4\n"
     ]
    }
   ],
   "source": [
    "array = np.array([1, 2, 3, 4, 5])\n",
    "\n",
    "k = 4.01 \n",
    "closest_value = array[np.abs(array - k).argmin()]\n",
    "\n",
    "print('Closest value to {} is {}'.format(k, closest_value))"
   ]
  },
  {
   "cell_type": "markdown",
   "metadata": {},
   "source": [
    "## 15. Consider a random vector with shape (10,2) representing coordinates, find point by point distances. Use euclidian distance"
   ]
  },
  {
   "cell_type": "code",
   "execution_count": 15,
   "metadata": {},
   "outputs": [
    {
     "name": "stdout",
     "output_type": "stream",
     "text": [
      "Distance between all pais are\n",
      "[[0.         2.65085592 2.17298218 1.62401607 2.93260332 2.67713553\n",
      "  0.59602301 2.21509816 0.54124571 1.68532143]\n",
      " [2.65085592 0.         0.60936404 1.15783135 0.95533178 0.78296536\n",
      "  2.15194026 0.92604782 2.70837898 2.45939872]\n",
      " [2.17298218 0.60936404 0.         0.58070685 1.43396003 1.19381476\n",
      "  1.62775878 0.39905527 2.32306329 1.85223264]\n",
      " [1.62401607 1.15783135 0.58070685 0.         1.81909065 1.55135988\n",
      "  1.05813723 0.61036812 1.84090234 1.39667882]\n",
      " [2.93260332 0.95533178 1.43396003 1.81909065 0.         0.27271636\n",
      "  2.57486303 1.81793429 2.80782277 3.21381909]\n",
      " [2.67713553 0.78296536 1.19381476 1.55135988 0.27271636 0.\n",
      "  2.3063971  1.5861203  2.57542182 2.94746916]\n",
      " [0.59602301 2.15194026 1.62775878 1.05813723 2.57486303 2.3063971\n",
      "  0.         1.63152476 0.98411141 1.24689842]\n",
      " [2.21509816 0.92604782 0.39905527 0.61036812 1.81793429 1.5861203\n",
      "  1.63152476 0.         2.45125753 1.57919038]\n",
      " [0.54124571 2.70837898 2.32306329 1.84090234 2.80782277 2.57542182\n",
      "  0.98411141 2.45125753 0.         2.18786098]\n",
      " [1.68532143 2.45939872 1.85223264 1.39667882 3.21381909 2.94746916\n",
      "  1.24689842 1.57919038 2.18786098 0.        ]]\n"
     ]
    }
   ],
   "source": [
    "vect = np.random.randn(10, 2)\n",
    "\n",
    "x,y = np.atleast_2d(vect[:,0], vect[:,1])\n",
    "dist = np.sqrt( (x-x.T)**2 + (y-y.T)**2)\n",
    "print('Distance between all pais are', dist, sep='\\n')"
   ]
  },
  {
   "cell_type": "markdown",
   "metadata": {},
   "source": [
    "## 16. How to sort an array by the nth column?"
   ]
  },
  {
   "cell_type": "code",
   "execution_count": 16,
   "metadata": {},
   "outputs": [
    {
     "name": "stdout",
     "output_type": "stream",
     "text": [
      "[[5 8 9]\n",
      " [5 0 0]\n",
      " [1 7 6]]\n",
      "Sorted array is: \n",
      "[[5 0 0]\n",
      " [1 7 6]\n",
      " [5 8 9]]\n"
     ]
    }
   ],
   "source": [
    "np.random.seed(1)\n",
    "sortarr = np.random.randint(0,10,(3,3))\n",
    "print(sortarr)\n",
    "print('Sorted array is: ')\n",
    "print(sortarr[sortarr[:,1].argsort()])"
   ]
  },
  {
   "cell_type": "markdown",
   "metadata": {},
   "source": [
    "## 17.How to tell if a given 2D array has null columns?"
   ]
  },
  {
   "cell_type": "code",
   "execution_count": 17,
   "metadata": {},
   "outputs": [
    {
     "name": "stdout",
     "output_type": "stream",
     "text": [
      "[[1 0 0 1 1 0 0 1 0 1]\n",
      " [0 2 1 2 0 2 1 2 0 0]\n",
      " [2 0 1 2 2 0 1 1 2 0]]\n",
      "False\n"
     ]
    }
   ],
   "source": [
    "np.random.seed(1)\n",
    "nullcol = np.random.randint(0,3,(3,10))\n",
    "print(nullcol)\n",
    "print((~nullcol.any(axis=0)).any())"
   ]
  },
  {
   "cell_type": "markdown",
   "metadata": {},
   "source": [
    "## 18. Considering a two dimensions array, how to get sum over the last two columns at once?"
   ]
  },
  {
   "cell_type": "code",
   "execution_count": 18,
   "metadata": {},
   "outputs": [
    {
     "name": "stdout",
     "output_type": "stream",
     "text": [
      "Array is\n",
      "[[1 2 3]\n",
      " [4 5 6]\n",
      " [7 8 9]]\n",
      "Sum of last two columns are 33\n"
     ]
    }
   ],
   "source": [
    "array = np.array([[1, 2, 3], [4, 5, 6], [7, 8, 9]])\n",
    "print('Array is', array, sep='\\n')\n",
    "\n",
    "print('Sum of last two columns are', np.sum(array[:, -2:]))"
   ]
  },
  {
   "cell_type": "markdown",
   "metadata": {},
   "source": [
    "## 19. Given a 2d array of 5X5, increment 1st column by 1, second column by 2, 3rd column by 3 & so on till the last column"
   ]
  },
  {
   "cell_type": "code",
   "execution_count": null,
   "metadata": {},
   "outputs": [],
   "source": [
    "array = np.random.rand(5, 5)\n",
    "print('Original array', array, sep='\\n')\n",
    "\n",
    "for i in range(5):\n",
    "    array[:, i] += (i+1)\n",
    "    \n",
    "print('Modified array', array, sep='\\n')"
   ]
  },
  {
   "cell_type": "markdown",
   "metadata": {},
   "source": [
    "## 20. Given a 1d array(size 100) of boolean values, identify total number of True in it"
   ]
  },
  {
   "cell_type": "code",
   "execution_count": null,
   "metadata": {},
   "outputs": [],
   "source": []
  },
  {
   "cell_type": "markdown",
   "metadata": {},
   "source": [
    "## 21. Consider the vector [1, 2, 3, 4, 5], how to build a new vector with 3 consecutive zeros interleaved between each value?"
   ]
  },
  {
   "cell_type": "code",
   "execution_count": 24,
   "metadata": {},
   "outputs": [
    {
     "name": "stdout",
     "output_type": "stream",
     "text": [
      "New array is\n",
      "[1. 0. 0. 0. 2. 0. 0. 0. 3. 0. 0. 0. 4. 0. 0. 0. 5.]\n"
     ]
    }
   ],
   "source": [
    "vec = np.array([1, 2, 3, 4, 5])\n",
    "\n",
    "num_zero = 12 \n",
    "\n",
    "new_arr = np.zeros(17)\n",
    "new_arr[::4] = vec\n",
    "\n",
    "print('New array is', new_arr, sep='\\n')"
   ]
  },
  {
   "cell_type": "markdown",
   "metadata": {},
   "source": [
    "## 22. How to swap two rows of an array?"
   ]
  },
  {
   "cell_type": "code",
   "execution_count": 23,
   "metadata": {},
   "outputs": [
    {
     "name": "stdout",
     "output_type": "stream",
     "text": [
      "Original array is\n",
      "[[0 1 2]\n",
      " [3 4 5]\n",
      " [6 7 8]]\n",
      "Modified array is\n",
      "[[3 4 5]\n",
      " [0 1 2]\n",
      " [6 7 8]]\n"
     ]
    }
   ],
   "source": [
    "array = np.array([[0, 1, 2], [3, 4, 5], [6, 7, 8]])\n",
    "print('Original array is', array, sep='\\n')\n",
    "array[[0, 1]] = array[[1, 0]]\n",
    "print('Modified array is', array, sep='\\n')"
   ]
  },
  {
   "cell_type": "markdown",
   "metadata": {},
   "source": [
    "## 23. How to get n largest value of an array?"
   ]
  },
  {
   "cell_type": "code",
   "execution_count": 21,
   "metadata": {},
   "outputs": [
    {
     "name": "stdout",
     "output_type": "stream",
     "text": [
      "4 largest values are [6 7 8 9]\n",
      "4th largest value is 6\n"
     ]
    }
   ],
   "source": [
    "array = np.array([0, 1, 5, 2, 4, 6, 7, 8, 9])\n",
    "n = 4\n",
    "array.sort()\n",
    "print('{} largest values are {}'.format(n, array[-n:]))\n",
    "print('{}th largest value is {}'.format(n, array[-n]))"
   ]
  },
  {
   "cell_type": "markdown",
   "metadata": {},
   "source": [
    "## 24. Given two random arrays of shape 5X5, identify the common elements between them"
   ]
  },
  {
   "cell_type": "code",
   "execution_count": 20,
   "metadata": {},
   "outputs": [
    {
     "name": "stdout",
     "output_type": "stream",
     "text": [
      "array1\n",
      "[[3 2 2 2 4]\n",
      " [4 2 3 2 2]\n",
      " [1 1 2 1 1]\n",
      " [2 4 4 3 2]\n",
      " [1 3 4 4 3]]\n",
      "array2\n",
      "[[2 2 2 4 1]\n",
      " [1 2 4 1 3]\n",
      " [1 1 2 4 2]\n",
      " [3 4 1 1 2]\n",
      " [4 3 4 4 3]]\n",
      "Common elements between arrays are [1 2 3 4]\n"
     ]
    }
   ],
   "source": [
    "array1 = np.random.randint(1, 5, size=25).reshape((5, 5))\n",
    "array2 = np.random.randint(1, 5, size=25).reshape((5, 5))\n",
    "\n",
    "print('array1', array1, sep='\\n')\n",
    "print('array2', array2, sep='\\n')\n",
    "print('Common elements between arrays are', np.intersect1d(array1, array2))"
   ]
  },
  {
   "cell_type": "markdown",
   "metadata": {},
   "source": [
    "## 25. How to get index of top two highest value in a 1d array?\n",
    "[2,22,11,-11,33,7,13,872,-23]"
   ]
  },
  {
   "cell_type": "code",
   "execution_count": 19,
   "metadata": {},
   "outputs": [
    {
     "name": "stdout",
     "output_type": "stream",
     "text": [
      "[  2  22  11 -11  33   7  13 872 -23]\n",
      "Index of two highest values are [7 4]\n"
     ]
    }
   ],
   "source": [
    "array = np.array([2,22,11,-11,33,7,13,872,-23])\n",
    "print( array)\n",
    "print('Index of two highest values are', array.argsort()[-2:][::-1])"
   ]
  },
  {
   "cell_type": "code",
   "execution_count": null,
   "metadata": {},
   "outputs": [],
   "source": []
  }
 ],
 "metadata": {
  "kernelspec": {
   "display_name": "Python 3.7.0 64-bit ('base': conda)",
   "language": "python",
   "name": "python37064bitbaseconda913e87fc35bc42e0a07bc5ba9ece2c64"
  },
  "language_info": {
   "codemirror_mode": {
    "name": "ipython",
    "version": 3
   },
   "file_extension": ".py",
   "mimetype": "text/x-python",
   "name": "python",
   "nbconvert_exporter": "python",
   "pygments_lexer": "ipython3",
   "version": "3.7.0"
  }
 },
 "nbformat": 4,
 "nbformat_minor": 2
}
