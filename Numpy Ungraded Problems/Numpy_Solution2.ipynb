{
 "cells": [
  {
   "cell_type": "markdown",
   "metadata": {},
   "source": [
    "# NumPy Test 2"
   ]
  },
  {
   "cell_type": "code",
   "execution_count": 1,
   "metadata": {},
   "outputs": [],
   "source": [
    "import numpy as np"
   ]
  },
  {
   "cell_type": "markdown",
   "metadata": {},
   "source": [
    "## 1. Create an array and find sum of it\n"
   ]
  },
  {
   "cell_type": "code",
   "execution_count": 2,
   "metadata": {},
   "outputs": [
    {
     "data": {
      "text/plain": [
       "243"
      ]
     },
     "execution_count": 2,
     "metadata": {},
     "output_type": "execute_result"
    }
   ],
   "source": [
    "a = np.random.randint(30,size=(5,3))\n",
    "np.sum(a)"
   ]
  },
  {
   "cell_type": "markdown",
   "metadata": {},
   "source": [
    "## 2. Find sin of given array."
   ]
  },
  {
   "cell_type": "code",
   "execution_count": 3,
   "metadata": {},
   "outputs": [
    {
     "data": {
      "text/plain": [
       "array([[ 0.90929743,  0.14112001, -0.7568025 ],\n",
       "       [-0.95892427, -0.2794155 ,  0.6569866 ]])"
      ]
     },
     "execution_count": 3,
     "metadata": {},
     "output_type": "execute_result"
    }
   ],
   "source": [
    "a = np.array([[2,3,4],[5,6,7]])\n",
    "np.sin(a)"
   ]
  },
  {
   "cell_type": "markdown",
   "metadata": {},
   "source": [
    "## 3. Find mean of matrix along row and column."
   ]
  },
  {
   "cell_type": "code",
   "execution_count": 4,
   "metadata": {},
   "outputs": [
    {
     "name": "stdout",
     "output_type": "stream",
     "text": [
      "[[2 1 6]\n",
      " [8 1 1]\n",
      " [3 5 2]]\n",
      "Row [4.33333333 2.33333333 3.        ]\n",
      "Column [3.         3.33333333 3.33333333]\n"
     ]
    }
   ],
   "source": [
    "a = np.random.randint(10,size=(3,3))\n",
    "print(a)\n",
    "print('Row',a.mean(axis=0))\n",
    "print('Column',a.mean(axis=1))"
   ]
  },
  {
   "cell_type": "markdown",
   "metadata": {},
   "source": [
    "## 4. Find standard deviation of given array.\n"
   ]
  },
  {
   "cell_type": "code",
   "execution_count": 5,
   "metadata": {},
   "outputs": [
    {
     "name": "stdout",
     "output_type": "stream",
     "text": [
      "[2.62466929 1.88561808 2.1602469 ]\n",
      "[2.1602469  3.29983165 1.24721913]\n"
     ]
    }
   ],
   "source": [
    "print(a.std(axis=0))\n",
    "print(a.std(axis=1))"
   ]
  },
  {
   "cell_type": "markdown",
   "metadata": {},
   "source": [
    "## 5. Create a 3*3 matrix and print it's transpose matrix\n"
   ]
  },
  {
   "cell_type": "code",
   "execution_count": 6,
   "metadata": {},
   "outputs": [
    {
     "name": "stdout",
     "output_type": "stream",
     "text": [
      "[[0 6 7]\n",
      " [4 6 1]\n",
      " [8 0 5]]\n",
      "matrix after transpose\n"
     ]
    },
    {
     "data": {
      "text/plain": [
       "array([[0, 4, 8],\n",
       "       [6, 6, 0],\n",
       "       [7, 1, 5]])"
      ]
     },
     "execution_count": 6,
     "metadata": {},
     "output_type": "execute_result"
    }
   ],
   "source": [
    "a = np.random.randint(10,size=(3,3))\n",
    "print(a)\n",
    "print('matrix after transpose')\n",
    "a.T"
   ]
  },
  {
   "cell_type": "markdown",
   "metadata": {},
   "source": [
    "## 6. Create an array of 3*3 and find index of max along both axis."
   ]
  },
  {
   "cell_type": "code",
   "execution_count": 7,
   "metadata": {},
   "outputs": [
    {
     "name": "stdout",
     "output_type": "stream",
     "text": [
      "[[4 0 8]\n",
      " [5 5 0]\n",
      " [4 9 0]]\n",
      "[1 2 0]\n",
      "[2 0 1]\n"
     ]
    }
   ],
   "source": [
    "a = np.random.randint(10,size=(3,3))\n",
    "print(a)\n",
    "print(a.argmax(axis=0))\n",
    "print(a.argmax(axis=1))"
   ]
  },
  {
   "cell_type": "markdown",
   "metadata": {},
   "source": [
    "## 7.  find sum of two matrix"
   ]
  },
  {
   "cell_type": "code",
   "execution_count": 8,
   "metadata": {},
   "outputs": [
    {
     "name": "stdout",
     "output_type": "stream",
     "text": [
      "[[ 2  3  5]\n",
      " [ 5  8 21]]\n"
     ]
    },
    {
     "data": {
      "text/plain": [
       "array([[ 3,  5,  8],\n",
       "       [ 6, 10, 24]])"
      ]
     },
     "execution_count": 8,
     "metadata": {},
     "output_type": "execute_result"
    }
   ],
   "source": [
    "a = np.array([[2,3,5],[5,8,21]])\n",
    "print(a)\n",
    "v = [1,2,3]\n",
    "a+v"
   ]
  },
  {
   "cell_type": "markdown",
   "metadata": {},
   "source": [
    "## 8. Find indexes of max element along axis=0 and axis=1"
   ]
  },
  {
   "cell_type": "code",
   "execution_count": 9,
   "metadata": {},
   "outputs": [
    {
     "name": "stdout",
     "output_type": "stream",
     "text": [
      "[ 5 12 21]\n",
      "[12 21]\n"
     ]
    }
   ],
   "source": [
    "a = np.array([[2,12,5],[5,8,21]])\n",
    "print(a.max(axis=0))\n",
    "print(a.max(axis=1))"
   ]
  },
  {
   "cell_type": "markdown",
   "metadata": {},
   "source": [
    "## 9. Write a program to add two arrays of different shape.\n",
    "Hint: Broadcasting\n",
    "sample input:\n",
    "\n",
    "a=[0.0,10.0,20.0,30.0]\n",
    "\n",
    "b=[1.0,2.0,3.0]\n",
    "\n",
    "output:\n",
    "\n",
    "[[  1.,   2.,   3.],\n",
    "\n",
    " [ 11.,  12.,  13.],\n",
    " \n",
    " [ 21.,  22.,  23.],\n",
    " \n",
    " [ 31.,  32.,  33.]]"
   ]
  },
  {
   "cell_type": "code",
   "execution_count": 10,
   "metadata": {},
   "outputs": [
    {
     "data": {
      "text/plain": [
       "array([[ 1.,  2.,  3.],\n",
       "       [11., 12., 13.],\n",
       "       [21., 22., 23.],\n",
       "       [31., 32., 33.]])"
      ]
     },
     "execution_count": 10,
     "metadata": {},
     "output_type": "execute_result"
    }
   ],
   "source": [
    "a = np.array([0.0, 10.0, 20.0, 30.0])\n",
    "b = np.array([1.0, 2.0, 3.0])\n",
    "a[:, np.newaxis]+b"
   ]
  },
  {
   "cell_type": "markdown",
   "metadata": {},
   "source": [
    "## 10. Try to solve a array and print a array with indices which would sort the given array.\n",
    "\n",
    "sample input:\n",
    "\n",
    "a = [3,1,8,2]\n",
    "\n",
    "output:\n",
    "\n",
    "[1,3,0,2]"
   ]
  },
  {
   "cell_type": "code",
   "execution_count": 11,
   "metadata": {},
   "outputs": [
    {
     "name": "stdout",
     "output_type": "stream",
     "text": [
      "[1 3 0 2]\n"
     ]
    }
   ],
   "source": [
    "x = np.array([3,1,8,2])\n",
    "x1 = np.argsort(x)\n",
    "print(x1)"
   ]
  },
  {
   "cell_type": "markdown",
   "metadata": {},
   "source": [
    "## 11. Try to do perform same operation mentioned in previous questions for multidimentional array along both axis"
   ]
  },
  {
   "cell_type": "code",
   "execution_count": 12,
   "metadata": {},
   "outputs": [
    {
     "name": "stdout",
     "output_type": "stream",
     "text": [
      "along axis 1:\n",
      " [[2 0 1]\n",
      " [0 2 1]\n",
      " [2 0 1]]\n",
      "along axis 0:\n",
      " [[1 1 0]\n",
      " [0 0 1]\n",
      " [2 2 2]]\n"
     ]
    }
   ],
   "source": [
    "x = np.random.randint(10,50,(3,3))\n",
    "print(\"along axis 1:\\n\",np.argsort(x, axis=1))\n",
    "print(\"along axis 0:\\n\",np.argsort(x, axis=0))"
   ]
  },
  {
   "cell_type": "markdown",
   "metadata": {},
   "source": [
    "## 12. calculate multiplication of transpose and matrix itself of a 3*3 matrix"
   ]
  },
  {
   "cell_type": "code",
   "execution_count": 13,
   "metadata": {},
   "outputs": [
    {
     "name": "stdout",
     "output_type": "stream",
     "text": [
      "original matrix:\n",
      " [[7 6 2]\n",
      " [9 7 3]\n",
      " [9 3 2]]\n",
      "Transpose of a:\n",
      " [[7 9 9]\n",
      " [6 7 3]\n",
      " [2 3 2]]\n",
      "Multiplication:\n",
      " [[49 54 18]\n",
      " [54 49  9]\n",
      " [18  9  4]]\n"
     ]
    }
   ],
   "source": [
    "a = np.random.randint(10,size=(3,3)) \n",
    "print(\"original matrix:\\n\",a) \n",
    "print(\"Transpose of a:\\n\",a.T) \n",
    "print(\"Multiplication:\\n\",a*a.T)"
   ]
  },
  {
   "cell_type": "markdown",
   "metadata": {},
   "source": [
    "## 13. Find solution for given linear equstion:\n",
    "\n",
    "2x + 5*y = 28\n",
    "4*x + 3*y = 81"
   ]
  },
  {
   "cell_type": "code",
   "execution_count": 14,
   "metadata": {},
   "outputs": [
    {
     "name": "stdout",
     "output_type": "stream",
     "text": [
      "Solution is: [22.92857143 -3.57142857]\n"
     ]
    }
   ],
   "source": [
    "a = np.array([[2, 5], [4, 3]])  \n",
    "b = np.array([28, 81]) \n",
    "print(\"Solution is:\", np.linalg.solve(a, b))"
   ]
  },
  {
   "cell_type": "markdown",
   "metadata": {},
   "source": [
    "## 14. Find Rank, Trace, Inverse, Determinant of a given matrix\n",
    "\n",
    "A=[[1, 1, 1], \n",
    "  [2, 2, 2], \n",
    "  [3, 3, 3]])"
   ]
  },
  {
   "cell_type": "code",
   "execution_count": 15,
   "metadata": {},
   "outputs": [
    {
     "name": "stdout",
     "output_type": "stream",
     "text": [
      "Rank:\n",
      " 3\n",
      "Trace:\n",
      " 8\n",
      "Determinant:\n",
      " 108.00000000000003\n",
      "Inverse:\n",
      " [[-0.12962963 -0.01851852  0.18518519]\n",
      " [ 0.10185185 -0.34259259  0.42592593]\n",
      " [ 0.12037037  0.23148148 -0.31481481]]\n"
     ]
    }
   ],
   "source": [
    "A = [[1, 4, 6], [9, 2, 8], [7, 3, 5]]\n",
    "print(\"Rank:\\n\", np.linalg.matrix_rank(A)) \n",
    "  \n",
    "print(\"Trace:\\n\", np.trace(A)) \n",
    "  \n",
    "print(\"Determinant:\\n\", np.linalg.det(A)) \n",
    "  \n",
    "print(\"Inverse:\\n\", np.linalg.inv(A)) \n",
    "  "
   ]
  },
  {
   "cell_type": "markdown",
   "metadata": {},
   "source": [
    "## 15. Find cube of a mtrix"
   ]
  },
  {
   "cell_type": "code",
   "execution_count": 16,
   "metadata": {},
   "outputs": [
    {
     "data": {
      "text/plain": [
       "array([[ 825,  580, 1054],\n",
       "       [1429,  790, 1560],\n",
       "       [1147,  647, 1261]])"
      ]
     },
     "execution_count": 16,
     "metadata": {},
     "output_type": "execute_result"
    }
   ],
   "source": [
    "A = [[1, 4, 6], [9, 2, 8], [7, 3, 5]]\n",
    "\n",
    "np.linalg.matrix_power(A, 3)"
   ]
  },
  {
   "cell_type": "code",
   "execution_count": null,
   "metadata": {},
   "outputs": [],
   "source": []
  }
 ],
 "metadata": {
  "kernelspec": {
   "display_name": "Python 3",
   "language": "python",
   "name": "python3"
  },
  "language_info": {
   "codemirror_mode": {
    "name": "ipython",
    "version": 3
   },
   "file_extension": ".py",
   "mimetype": "text/x-python",
   "name": "python",
   "nbconvert_exporter": "python",
   "pygments_lexer": "ipython3",
   "version": "3.7.0"
  }
 },
 "nbformat": 4,
 "nbformat_minor": 4
}
